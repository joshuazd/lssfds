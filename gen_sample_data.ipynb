{
 "cells": [
  {
   "cell_type": "code",
   "execution_count": 23,
   "metadata": {
    "collapsed": false
   },
   "outputs": [],
   "source": [
    "#code goes here\n",
    "# Author: Jake VanderPlas\n",
    "# License: BSD\n",
    "#   The figure produced by this code is published in the textbook\n",
    "#   \"Statistics, Data Mining, and Machine Learning in Astronomy\" (2013)\n",
    "#   For more information, see http://astroML.github.com\n",
    "#   To report a bug or issue, use the following forum:\n",
    "#    https://groups.google.com/forum/#!forum/astroml-general\n",
    "import numpy as np\n",
    "from matplotlib import pyplot as plt\n",
    "from astroML.time_series import\\\n",
    "    lomb_scargle, lomb_scargle_BIC, lomb_scargle_bootstrap\n",
    "from scipy.interpolate import interp1d\n",
    "\n",
    "\n",
    "#----------------------------------------------------------------------\n",
    "# This function adjusts matplotlib settings for a uniform feel in the textbook.\n",
    "# Note that with usetex=True, fonts are rendered with LaTeX.  This may\n",
    "# result in an error if LaTeX is not installed on your system.  In that case,\n",
    "# you can set usetex to False.\n",
    "from astroML.plotting import setup_text_plots\n",
    "setup_text_plots(fontsize=8, usetex=False)\n",
    "\n",
    "#------------------------------------------------------------\n",
    "# Generate Data\n",
    "\"\"\"np.random.seed(0)\n",
    "N = 200\n",
    "P = 0.3\n",
    "\n",
    "t = np.random.randint(3000, size=N) + 0.3 + 0.4 * np.random.random(N)\n",
    "y = 10 + np.sin(2 * np.pi * t / P)\n",
    "dy = 0.5 + 0.5 * np.random.random(N)\n",
    "y_obs = np.random.normal(y, dy)\"\"\"\n",
    "x = np.linspace(0, 3000, num=200, endpoint=True)\n",
    "y = np.cos(x*0.004)\n",
    "for i in range(len(y)):\n",
    "    r = np.random.random()\n",
    "    if r < 0.5:\n",
    "        y[i] -= np.random.random()\n",
    "    else:\n",
    "        y[i] += np.random.random()\n",
    "        \n",
    "period = np.array([i for i in range(10,3000,10)])\n",
    "omega = 2 * np.pi / period\n",
    "dy = [np.random.random()/2 for i in y]\n",
    "\n",
    "PS = lomb_scargle(x, y, dy, omega, generalized=True)\n",
    "#f = interp1d(x, y)\n",
    "#f2 = interp1d(x, y, kind='cubic')\n",
    "\n",
    "#xnew = np.linspace(0, 3000, num=3000, endpoint=True)\n",
    "\n",
    "#p = np.poly1d(np.polyfit(x,y,7))\n",
    "plt.subplot(211)\n",
    "plt.plot(x, y, 'o')#, xnew, p(xnew), '-')#, xnew, f2(xnew), '--')\n",
    "\n",
    "plt.subplot(212)\n",
    "plt.plot(period,PS,'+')\n",
    "\n",
    "#plt.legend(['data', 'linear', 'cubic'], loc='best')\n",
    "plt.show()"
   ]
  },
  {
   "cell_type": "code",
   "execution_count": null,
   "metadata": {
    "collapsed": true
   },
   "outputs": [],
   "source": []
  }
 ],
 "metadata": {
  "kernelspec": {
   "display_name": "Python 2",
   "language": "python",
   "name": "python2"
  },
  "language_info": {
   "codemirror_mode": {
    "name": "ipython",
    "version": 2
   },
   "file_extension": ".py",
   "mimetype": "text/x-python",
   "name": "python",
   "nbconvert_exporter": "python",
   "pygments_lexer": "ipython2",
   "version": "2.7.10"
  }
 },
 "nbformat": 4,
 "nbformat_minor": 0
}
