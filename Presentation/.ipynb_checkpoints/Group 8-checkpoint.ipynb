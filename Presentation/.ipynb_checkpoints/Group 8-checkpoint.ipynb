{
 "cells": [
  {
   "cell_type": "markdown",
   "metadata": {},
   "source": [
    "# Looking for Supermassive Black Hole Binaries in CRTS Data (Group 8)"
   ]
  },
  {
   "cell_type": "markdown",
   "metadata": {},
   "source": [
    "Nicole Wallack, Joshua Zink-Duda, Valeria Olivares, and Bryan Sagredo"
   ]
  },
  {
   "cell_type": "markdown",
   "metadata": {},
   "source": [
    "### The Catalina Real-Time Transient Survey\n",
    "\n",
    "The Catalina Real-Time Transient Survey (CRTS) is a offshoot of the Catalina Sky Survey (CSS), a project focusing on the study of near-Earth objects. The CRTS piggybacks off of this survey, instead looking for transient objects in this CSS data. The CRTS covers 33,000 square degrees, with the three CSS telescopes- The Mt. Lemmon Survey 1.5m, Catalina Sky Survey 0.7m , and Siding Springs Survey 0.5m telescopes."
   ]
  },
  {
   "cell_type": "markdown",
   "metadata": {},
   "source": [
    "###Supermassive Black Hole Binaries \n",
    "Galaxy mergers occur as their dark matter halos assemble, these frequently happen and result in binary supermassive black holes (Milosavljevic & Merritt 2001). Subparsec supermassive black holes (SMBH) are very difficult to resolve, but can be detected through variability resulting from accretion disk perturbations or relativistic jets precession (Graham et al. 2015). Due to the fact that quasars are stochastic in the optical and variable across all wavelengths, periodocity in time series flux measurements are used to study binary SMBH. The presence of periodicity in these quasar light curves is indicative of binary SMBH."
   ]
  },
  {
   "cell_type": "markdown",
   "metadata": {
    "collapsed": true
   },
   "source": [
    "###Analysis by AOV and Lomb-Scargle\n",
    "Due to the fact that CRTS data is irregularly sampled as well as being noisy and having gaps, Fourier analyses are not applicable. Instead, we use analysis of variance (AOV) and Lomb-Scargle analyses to produce the periodograms for each time series flux measurement. The two resulting periodograms are convolved to produce an improved and less ambiguous solution."
   ]
  },
  {
   "cell_type": "code",
   "execution_count": 2,
   "metadata": {
    "collapsed": false
   },
   "outputs": [
    {
     "ename": "ImportError",
     "evalue": "dlopen(./aov.so, 2): no suitable image found.  Did find:\n\t./aov.so: unknown file type, first eight bytes: 0x7F 0x45 0x4C 0x46 0x02 0x01 0x01 0x00",
     "output_type": "error",
     "traceback": [
      "\u001b[0;31m---------------------------------------------------------------------------\u001b[0m",
      "\u001b[0;31mImportError\u001b[0m                               Traceback (most recent call last)",
      "\u001b[0;32m<ipython-input-2-494e2dac7ed5>\u001b[0m in \u001b[0;36m<module>\u001b[0;34m()\u001b[0m\n\u001b[1;32m      4\u001b[0m \u001b[0;32mfrom\u001b[0m \u001b[0mmatplotlib\u001b[0m \u001b[0;32mimport\u001b[0m \u001b[0mpyplot\u001b[0m \u001b[0;32mas\u001b[0m \u001b[0mplt\u001b[0m\u001b[0;34m\u001b[0m\u001b[0m\n\u001b[1;32m      5\u001b[0m \u001b[0;32mfrom\u001b[0m \u001b[0mastroML\u001b[0m\u001b[0;34m.\u001b[0m\u001b[0mtime_series\u001b[0m \u001b[0;32mimport\u001b[0m    \u001b[0mlomb_scargle\u001b[0m\u001b[0;34m,\u001b[0m \u001b[0mlomb_scargle_BIC\u001b[0m\u001b[0;34m,\u001b[0m \u001b[0mlomb_scargle_bootstrap\u001b[0m\u001b[0;34m\u001b[0m\u001b[0m\n\u001b[0;32m----> 6\u001b[0;31m \u001b[0;32mimport\u001b[0m \u001b[0mpyaov\u001b[0m\u001b[0;34m\u001b[0m\u001b[0m\n\u001b[0m\u001b[1;32m      7\u001b[0m \u001b[0;32mfrom\u001b[0m \u001b[0mastropy\u001b[0m\u001b[0;34m.\u001b[0m\u001b[0mio\u001b[0m \u001b[0;32mimport\u001b[0m \u001b[0mascii\u001b[0m\u001b[0;34m\u001b[0m\u001b[0m\n\u001b[1;32m      8\u001b[0m \u001b[0;32mfrom\u001b[0m \u001b[0mastroML\u001b[0m\u001b[0;34m.\u001b[0m\u001b[0mplotting\u001b[0m \u001b[0;32mimport\u001b[0m \u001b[0msetup_text_plots\u001b[0m\u001b[0;34m\u001b[0m\u001b[0m\n",
      "\u001b[0;32m/Users/nicolewallack/lssfds/Presentation/pyaov.py\u001b[0m in \u001b[0;36m<module>\u001b[0;34m()\u001b[0m\n\u001b[1;32m      6\u001b[0m \u001b[0;31m# Based on the wrapper scheme contributed by Ewald Zietsman <ewald.zietsman@gmail.com>\u001b[0m\u001b[0;34m\u001b[0m\u001b[0;34m\u001b[0m\u001b[0m\n\u001b[1;32m      7\u001b[0m \u001b[0;34m\u001b[0m\u001b[0m\n\u001b[0;32m----> 8\u001b[0;31m \u001b[0;32mimport\u001b[0m \u001b[0maov\u001b[0m \u001b[0;32mas\u001b[0m \u001b[0m_aov\u001b[0m\u001b[0;34m\u001b[0m\u001b[0m\n\u001b[0m\u001b[1;32m      9\u001b[0m \u001b[0;32mimport\u001b[0m \u001b[0mmatplotlib\u001b[0m\u001b[0;34m.\u001b[0m\u001b[0mpyplot\u001b[0m \u001b[0;32mas\u001b[0m \u001b[0mpl\u001b[0m\u001b[0;34m\u001b[0m\u001b[0m\n\u001b[1;32m     10\u001b[0m \u001b[0;32mimport\u001b[0m \u001b[0mnumpy\u001b[0m \u001b[0;32mas\u001b[0m \u001b[0mnp\u001b[0m\u001b[0;34m\u001b[0m\u001b[0m\n",
      "\u001b[0;31mImportError\u001b[0m: dlopen(./aov.so, 2): no suitable image found.  Did find:\n\t./aov.so: unknown file type, first eight bytes: 0x7F 0x45 0x4C 0x46 0x02 0x01 0x01 0x00"
     ]
    }
   ],
   "source": [
    "#importing necessary packages\n",
    "%matplotlib inline\n",
    "import numpy as np\n",
    "from matplotlib import pyplot as plt\n",
    "from astroML.time_series import\\\n",
    "    lomb_scargle, lomb_scargle_BIC, lomb_scargle_bootstrap\n",
    "import pyaov\n",
    "from astropy.io import ascii\n",
    "from astroML.plotting import setup_text_plots\n",
    "setup_text_plots(fontsize=8, usetex=False)"
   ]
  },
  {
   "cell_type": "markdown",
   "metadata": {},
   "source": [
    "We had a sample of 245,000+ quasar light curves. We looked for periodicity to determine if the light curves could belong to a binary SMBH. Using one as an example:"
   ]
  },
  {
   "cell_type": "code",
   "execution_count": null,
   "metadata": {
    "collapsed": false
   },
   "outputs": [],
   "source": [
    "f = ascii.read('1146031039078.dat')\n",
    "f0 = f[0][0]\n",
    "for i in range(len(f)):\n",
    "    f[i][0] = f[i][0] - f0\n",
    "x = np.array(f['col1'])\n",
    "y = np.array(f['col2'])\n",
    "yerr = np.array(f['col3'])"
   ]
  },
  {
   "cell_type": "markdown",
   "metadata": {},
   "source": [
    "We apply a 5th order polynomial fit to the data."
   ]
  },
  {
   "cell_type": "code",
   "execution_count": null,
   "metadata": {
    "collapsed": true
   },
   "outputs": [],
   "source": [
    "p = np.poly1d(np.polyfit(x,y,5))\n",
    "xp = np.arange(0,3000,1)"
   ]
  },
  {
   "cell_type": "markdown",
   "metadata": {},
   "source": [
    "We clean-up the data by removing the data points that are greater than 5 sigma away from the best-fit curve. "
   ]
  },
  {
   "cell_type": "code",
   "execution_count": null,
   "metadata": {
    "collapsed": false
   },
   "outputs": [],
   "source": [
    "#Removing the extraneous data points\n",
    "S=y-p(x)\n",
    "sigma=0.0\n",
    "for i in range(len(y)):\n",
    "    sigma+=S[i]**2\n",
    "sigma=sigma/len(y)\n",
    "sigma=np.sqrt(sigma)\n",
    "\n",
    "indicator=[]\n",
    "for i in range(len(y)):\n",
    "    if 5*sigma < abs(y[i]-p(x[i])):\n",
    "        indicator.append(i)\n",
    "y = np.delete(y,indicator)\n",
    "x = np.delete(x,indicator)\n",
    "yerr = np.delete(yerr,indicator)"
   ]
  },
  {
   "cell_type": "markdown",
   "metadata": {},
   "source": [
    "Plotting the data (in blue), the 5th order polynomial fit (in red), and the 5-sigma curves (in green)."
   ]
  },
  {
   "cell_type": "code",
   "execution_count": null,
   "metadata": {
    "collapsed": false
   },
   "outputs": [],
   "source": [
    "#plot data\n",
    "plt.title(\"Data\")\n",
    "plt.plot(x, y, 'o',xp,p(xp),'r-',xp,p(xp)+5*sigma,'g-',xp,p(xp)-5*sigma,'g-')\n",
    "plt.show()"
   ]
  },
  {
   "cell_type": "markdown",
   "metadata": {},
   "source": [
    "We then calculate the Lomb-Scargle Periodogram. The Lomb-Scargle periodogram is a method of least-squares spectral analysis where the time delay is done to ensure orthogonality at a given time."
   ]
  },
  {
   "cell_type": "code",
   "execution_count": null,
   "metadata": {
    "collapsed": false
   },
   "outputs": [],
   "source": [
    "omega1 = 2 * np.pi / 3000\n",
    "omega2 = 2 * np.pi / 10\n",
    "omega = np.linspace(omega1,omega2,num=301)\n",
    "#Calculate Lomb-Scargle Periodogram\n",
    "PS = lomb_scargle(x, y, yerr, omega, generalized=True)\n",
    "\n",
    "#normalize periodgram\n",
    "PS = (PS - np.mean(PS))/np.std(PS)\n",
    "\n",
    "#Plot Lomb-Scargle Periodogram\n",
    "plt.title(\"LS-periodogram\")\n",
    "plt.plot(omega,PS,'go')\n",
    "plt.show()"
   ]
  },
  {
   "cell_type": "markdown",
   "metadata": {},
   "source": [
    "We then calculate the AOV periodogram:"
   ]
  },
  {
   "cell_type": "code",
   "execution_count": null,
   "metadata": {
    "collapsed": false
   },
   "outputs": [],
   "source": [
    "#To calculate the AOV Periodogram\n",
    "th,fr,frmax=pyaov.aovw(x,y,yerr,omega[-1],omega[0])\n",
    "\n",
    "#normalize periodogram\n",
    "th = (th - np.mean(th))/np.std(th)\n",
    "\n",
    "#Plot AOV Periodogram\n",
    "plt.title(\"AOV periodogram\")\n",
    "plt.plot(fr,th,'ro')\n",
    "plt.show()"
   ]
  },
  {
   "cell_type": "markdown",
   "metadata": {},
   "source": [
    "We convolve the Lomb-Scargle and AOV periodograms and find the peak:"
   ]
  },
  {
   "cell_type": "code",
   "execution_count": null,
   "metadata": {
    "collapsed": false
   },
   "outputs": [],
   "source": [
    "\n",
    "#plot convolution\n",
    "conv = np.convolve(PS,th,mode='same')\n",
    "plt.figure(4)\n",
    "plt.title(\"Convolution\")\n",
    "plt.plot(omega,conv,'bo')\n",
    "plt.show()\n",
    "#Calculating the peak\n",
    "peak = conv.max()\n",
    "freq = conv.argmax()\n",
    "std = np.std(conv)\n",
    "u = np.median(conv)\n",
    "sig = (peak-u)/std\n",
    "print 'Number of standard deviations the peak is from the median ='\n",
    "print sig"
   ]
  },
  {
   "cell_type": "markdown",
   "metadata": {
    "collapsed": true
   },
   "source": [
    "In order to ascertain the periodic nature of the data, we looked for high peaks in the data. Specifically, we looked at those light curves which had a peak a large number of standard deviations away. Out of the 245,000+ quasar light curves, ~2600 of them had peaks above 6 sigma from the median."
   ]
  },
  {
   "cell_type": "markdown",
   "metadata": {},
   "source": [
    "Looking at another light curve:"
   ]
  },
  {
   "cell_type": "code",
   "execution_count": null,
   "metadata": {
    "collapsed": false
   },
   "outputs": [],
   "source": [
    "f = ascii.read('1143038053885.dat')\n",
    "f0 = f[0][0]\n",
    "for i in range(len(f)):\n",
    "    f[i][0] = f[i][0] - f0\n",
    "x = np.array(f['col1'])\n",
    "y = np.array(f['col2'])\n",
    "yerr = np.array(f['col3'])\n",
    "\n",
    "omega1 = 2 * np.pi / 3000\n",
    "omega2 = 2 * np.pi / 10\n",
    "omega = np.linspace(omega1,omega2,num=301)\n",
    "p = np.poly1d(np.polyfit(x,y,5))\n",
    "xp = np.arange(0,3000,1)\n",
    "#Removing the extraneous data points\n",
    "S=y-p(x)\n",
    "sigma=0.0\n",
    "for i in range(len(y)):\n",
    "    sigma+=S[i]**2\n",
    "sigma=sigma/len(y)\n",
    "sigma=np.sqrt(sigma)\n",
    "\n",
    "indicator=[]\n",
    "for i in range(len(y)):\n",
    "    if 5*sigma < abs(y[i]-p(x[i])):\n",
    "        indicator.append(i)\n",
    "y = np.delete(y,indicator)\n",
    "x = np.delete(x,indicator)\n",
    "yerr = np.delete(yerr,indicator)\n",
    "#plot data\n",
    "plt.figure(1)\n",
    "plt.title(\"Data\")\n",
    "plt.plot(x, y, 'o',xp,p(xp),'r-',xp,p(xp)+5*sigma,'g-',xp,p(xp)-5*sigma,'g-')\n",
    "#Calculate Lomb-Scargle Periodogram\n",
    "PS = lomb_scargle(x, y, yerr, omega, generalized=True)\n",
    "#To calculate the AOV Periodogram\n",
    "th,fr,frmax=pyaov.aovw(x,y,yerr,omega[-1],omega[0])\n",
    "#normalize periodgram\n",
    "PS = (PS - np.mean(PS))/np.std(PS)\n",
    "th = (th - np.mean(th))/np.std(th)\n",
    "#plot convolution\n",
    "conv = np.convolve(PS,th,mode='same')\n",
    "plt.figure(4)\n",
    "plt.title(\"Convolution\")\n",
    "plt.plot(omega,conv,'yo')\n",
    "plt.show()\n",
    "#Calculating the peak\n",
    "peak = conv.max()\n",
    "freq = conv.argmax()\n",
    "std = np.std(conv)\n",
    "u = np.median(conv)\n",
    "sig = (peak-u)/std\n",
    "print 'Number of standard deviations the peak is from the median ='\n",
    "print sig"
   ]
  },
  {
   "cell_type": "markdown",
   "metadata": {},
   "source": [
    "There were ~550 light curves with peaks at least 7 sigma away from the median.                                             There were 10, 11, and 12 sigma distance from the median peaks:"
   ]
  },
  {
   "cell_type": "code",
   "execution_count": null,
   "metadata": {
    "collapsed": false
   },
   "outputs": [],
   "source": [
    "f = ascii.read('1001115060673.dat')\n",
    "f0 = f[0][0]\n",
    "for i in range(len(f)):\n",
    "    f[i][0] = f[i][0] - f0\n",
    "x = np.array(f['col1'])\n",
    "y = np.array(f['col2'])\n",
    "yerr = np.array(f['col3'])\n",
    "\n",
    "omega1 = 2 * np.pi / 3000\n",
    "omega2 = 2 * np.pi / 10\n",
    "omega = np.linspace(omega1,omega2,num=301)\n",
    "p = np.poly1d(np.polyfit(x,y,5))\n",
    "xp = np.arange(0,3000,1)\n",
    "#Removing the extraneous data points\n",
    "S=y-p(x)\n",
    "sigma=0.0\n",
    "for i in range(len(y)):\n",
    "    sigma+=S[i]**2\n",
    "sigma=sigma/len(y)\n",
    "sigma=np.sqrt(sigma)\n",
    "\n",
    "indicator=[]\n",
    "for i in range(len(y)):\n",
    "    if 5*sigma < abs(y[i]-p(x[i])):\n",
    "        indicator.append(i)\n",
    "y = np.delete(y,indicator)\n",
    "x = np.delete(x,indicator)\n",
    "yerr = np.delete(yerr,indicator)\n",
    "#plot data\n",
    "plt.figure(1)\n",
    "plt.title(\"Data\")\n",
    "plt.plot(x, y, 'o',xp,p(xp),'r-',xp,p(xp)+5*sigma,'g-',xp,p(xp)-5*sigma,'g-')\n",
    "\n",
    "#Calculate Lomb-Scargle Periodogram\n",
    "PS = lomb_scargle(x, y, yerr, omega, generalized=True)\n",
    "\n",
    "#To calculate the AOV Periodogram\n",
    "th,fr,frmax=pyaov.aovw(x,y,yerr,omega[-1],omega[0])\n",
    "\n",
    "#normalize periodgram\n",
    "PS = (PS - np.mean(PS))/np.std(PS)\n",
    "th = (th - np.mean(th))/np.std(th)\n",
    "\n",
    "#plot convolution\n",
    "conv = np.convolve(PS,th,mode='same')\n",
    "plt.figure(4)\n",
    "plt.title(\"Convolution\")\n",
    "plt.plot(omega,conv,'yo')\n",
    "plt.show()\n",
    "#Calculating the peak\n",
    "peak = conv.max()\n",
    "freq = conv.argmax()\n",
    "std = np.std(conv)\n",
    "u = np.median(conv)\n",
    "sig = (peak-u)/std\n",
    "print 'Number of standard deviations the peak is from the median ='\n",
    "print sig"
   ]
  },
  {
   "cell_type": "code",
   "execution_count": null,
   "metadata": {
    "collapsed": false
   },
   "outputs": [],
   "source": [
    "f = ascii.read('2121102018729.dat')\n",
    "f0 = f[0][0]\n",
    "for i in range(len(f)):\n",
    "    f[i][0] = f[i][0] - f0\n",
    "x = np.array(f['col1'])\n",
    "y = np.array(f['col2'])\n",
    "yerr = np.array(f['col3'])\n",
    "\n",
    "omega1 = 2 * np.pi / 3000\n",
    "omega2 = 2 * np.pi / 10\n",
    "omega = np.linspace(omega1,omega2,num=301)\n",
    "p = np.poly1d(np.polyfit(x,y,5))\n",
    "xp = np.arange(0,3000,1)\n",
    "#Removing the extraneous data points\n",
    "S=y-p(x)\n",
    "sigma=0.0\n",
    "for i in range(len(y)):\n",
    "    sigma+=S[i]**2\n",
    "sigma=sigma/len(y)\n",
    "sigma=np.sqrt(sigma)\n",
    "\n",
    "indicator=[]\n",
    "for i in range(len(y)):\n",
    "    if 5*sigma < abs(y[i]-p(x[i])):\n",
    "        indicator.append(i)\n",
    "y = np.delete(y,indicator)\n",
    "x = np.delete(x,indicator)\n",
    "yerr = np.delete(yerr,indicator)\n",
    "#plot data\n",
    "plt.figure(1)\n",
    "plt.title(\"Data\")\n",
    "plt.plot(x, y, 'o',xp,p(xp),'r-',xp,p(xp)+5*sigma,'g-',xp,p(xp)-5*sigma,'g-')\n",
    "\n",
    "#Calculate Lomb-Scargle Periodogram\n",
    "PS = lomb_scargle(x, y, yerr, omega, generalized=True)\n",
    "\n",
    "#To calculate the AOV Periodogram\n",
    "th,fr,frmax=pyaov.aovw(x,y,yerr,omega[-1],omega[0])\n",
    "\n",
    "#normalize periodgram\n",
    "PS = (PS - np.mean(PS))/np.std(PS)\n",
    "th = (th - np.mean(th))/np.std(th)\n",
    "\n",
    "#plot convolution\n",
    "conv = np.convolve(PS,th,mode='same')\n",
    "plt.figure(4)\n",
    "plt.title(\"Convolution\")\n",
    "plt.plot(omega,conv,'yo')\n",
    "plt.show()\n",
    "#Calculating the peak\n",
    "peak = conv.max()\n",
    "freq = conv.argmax()\n",
    "std = np.std(conv)\n",
    "u = np.median(conv)\n",
    "sig = (peak-u)/std\n",
    "print 'Number of standard deviations the peak is from the median ='\n",
    "print sig"
   ]
  },
  {
   "cell_type": "code",
   "execution_count": null,
   "metadata": {
    "collapsed": false
   },
   "outputs": [],
   "source": [
    "f = ascii.read('2121102009799.dat')\n",
    "f0 = f[0][0]\n",
    "for i in range(len(f)):\n",
    "    f[i][0] = f[i][0] - f0\n",
    "x = np.array(f['col1'])\n",
    "y = np.array(f['col2'])\n",
    "yerr = np.array(f['col3'])\n",
    "\n",
    "omega1 = 2 * np.pi / 3000\n",
    "omega2 = 2 * np.pi / 10\n",
    "omega = np.linspace(omega1,omega2,num=301)\n",
    "p = np.poly1d(np.polyfit(x,y,5))\n",
    "xp = np.arange(0,3000,1)\n",
    "#Removing the extraneous data points\n",
    "\n",
    "S=y-p(x)\n",
    "sigma=0.0\n",
    "for i in range(len(y)):\n",
    "    sigma+=S[i]**2\n",
    "sigma=sigma/len(y)\n",
    "sigma=np.sqrt(sigma)\n",
    "\n",
    "indicator=[]\n",
    "for i in range(len(y)):\n",
    "    if 5*sigma < abs(y[i]-p(x[i])):\n",
    "        indicator.append(i)\n",
    "y = np.delete(y,indicator)\n",
    "x = np.delete(x,indicator)\n",
    "yerr = np.delete(yerr,indicator)\n",
    "#plot data\n",
    "plt.figure(1)\n",
    "plt.title(\"Data\")\n",
    "plt.plot(x, y, 'o',xp,p(xp),'r-',xp,p(xp)+5*sigma,'g-',xp,p(xp)-5*sigma,'g-')\n",
    "\n",
    "#Calculate Lomb-Scargle Periodogram\n",
    "PS = lomb_scargle(x, y, yerr, omega, generalized=True)\n",
    "\n",
    "#To calculate the AOV Periodogram\n",
    "th,fr,frmax=pyaov.aovw(x,y,yerr,omega[-1],omega[0])\n",
    "\n",
    "#normalize periodgram\n",
    "PS = (PS - np.mean(PS))/np.std(PS)\n",
    "th = (th - np.mean(th))/np.std(th)\n",
    "\n",
    "#plot convolution\n",
    "conv = np.convolve(PS,th,mode='same')\n",
    "plt.figure(4)\n",
    "plt.title(\"Convolution\")\n",
    "plt.plot(omega,conv,'yo')\n",
    "plt.show()\n",
    "#Calculating the peak\n",
    "peak = conv.max()\n",
    "freq = conv.argmax()\n",
    "std = np.std(conv)\n",
    "u = np.median(conv)\n",
    "sig = (peak-u)/std\n",
    "print 'Number of standard deviations the peak is from the median ='\n",
    "print sig"
   ]
  },
  {
   "cell_type": "markdown",
   "metadata": {},
   "source": [
    "A visual inspection of the light curves does not immediately suggest the periodicity that the high sigma of the peaks of the convolutions does. This may suggest that our code produces false-positives. This may indicate the need to further limit other parameters to limit the number of false positives."
   ]
  },
  {
   "cell_type": "code",
   "execution_count": null,
   "metadata": {
    "collapsed": true
   },
   "outputs": [],
   "source": []
  }
 ],
 "metadata": {
  "kernelspec": {
   "display_name": "Python 2",
   "language": "python",
   "name": "python2"
  },
  "language_info": {
   "codemirror_mode": {
    "name": "ipython",
    "version": 2
   },
   "file_extension": ".py",
   "mimetype": "text/x-python",
   "name": "python",
   "nbconvert_exporter": "python",
   "pygments_lexer": "ipython2",
   "version": "2.7.10"
  }
 },
 "nbformat": 4,
 "nbformat_minor": 0
}
